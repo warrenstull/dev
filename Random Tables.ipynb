{
 "cells": [
  {
   "cell_type": "code",
   "execution_count": 1,
   "metadata": {},
   "outputs": [
    {
     "name": "stdout",
     "output_type": "stream",
     "text": [
      "What are the odds? (0 = has to be, 1 = a sure thing, 2= near sure thing, 3 = very likely, 4 = likely, \n",
      "5 = somewhat likely, 6 = 50/50, 7 = unlikely, 8 = very unlikely, 9 = no way, 10 = impossible)6\n",
      "\n",
      "Average Chaos Factor = 5\n",
      "Scenerio ended well? Lower Chaos Number -1\n",
      "Scenrio ended bad? Increase Chaos Number +1\n",
      "\n",
      "D100 Roll\n",
      "\n",
      "\n",
      "50/50...\n",
      "\n",
      "(Chaos Rank) Exceptional Yes / Target / Exceptional No\n",
      "(1) 2/10/83\n",
      "(2) 3/15/84\n",
      "(3) 5/25/86\n",
      "(4) 7/35/88\n",
      "(5) 10/50/91\n",
      "(6) 13/65/94\n",
      "(7) 15/75/96\n",
      "(8) 16/85/97\n",
      "(9) 19/95/100\n"
     ]
    }
   ],
   "source": [
    "# Fate Chart\n",
    "\n",
    "\n",
    "\n",
    "\n",
    "\n",
    "odds = input(\"What are the odds? (0 = has to be, 1 = a sure thing, 2= near sure thing, 3 = very likely, \" + \n",
    "                \"4 = likely, \\n5 = somewhat likely, 6 = 50/50, 7 = unlikely, 8 = very unlikely, \" +\n",
    "                \"9 = no way, 10 = impossible)\")\n",
    "print(\"\\nAverage Chaos Factor = 5\\nScenerio ended well? Lower Chaos Number -1\\nScenrio ended bad? Increase Chaos Number +1\")\n",
    "print(\"\\nD100 Roll\\n\")\n",
    "\n",
    "if(odds == \"0\"):\n",
    "    print(\"\\nHas To Be...\\n\")\n",
    "    print(\"(Chaos Rank) Exceptional Yes / Target / Exceptional No\")\n",
    "    print(\"(1) 16/80/97\\n(2) 16/85/97\\n(3) 18/90/99\\n(4) 19/95/100\\n(5) 19/95/100\\n(6) 20/100/0\\n(7) 20/100/0\\n(8) 26/130/0\\n(9) 26/145/0\")\n",
    "\n",
    "if(odds == \"1\"):\n",
    "    print(\"\\nA Sure Thing...\\n\")\n",
    "    print(\"(Chaos Rank) Exceptional Yes / Target / Exceptional No\")\n",
    "    print(\"(1) 11/55/92\\n(2) 13/65/94\\n(3) 16/80/97\\n(4) 16/85/97\\n(5) 18/90/99\\n(6) 19/95/100\\n(7) 19/95/100\\n(8) 22/110/0\\n(9) 25/125/0\")\n",
    "    \n",
    "\n",
    "if(odds == \"2\"):\n",
    "    print(\"\\nNear Sure Thing...\\n\")\n",
    "    print(\"(Chaos Rank) Exceptional Yes / Target / Exceptional No\")\n",
    "    print(\"(1) 10/50/91\\n(2) 11/55/92\\n(3) 15/75/96\\n(4) 16/80/97\\n(5) 18/90/99\\n(6) 19/95/100\\n(7) 19/95/100\\n(8) 20/100/0\\n(9) 23/115/0\")\n",
    "    \n",
    "if(odds == \"3\"):\n",
    "    print(\"\\nVery Likely...\\n\")\n",
    "    print(\"(Chaos Rank) Exceptional Yes / Target / Exceptional No\")\n",
    "    print(\"(1) 9/45/90\\n(2) 10/50/91\\n(3) 13/65/94\\n(4) 15/75/96\\n(5) 16/85/97\\n(6) 18/90/99\\n(7) 19/95/100\\n(8) 19/95/100\\n(9) 21/105/0\")\n",
    "    \n",
    "\n",
    "if(odds == \"4\"):\n",
    "    print(\"\\nLikely...\\n\")\n",
    "    print(\"(Chaos Rank) Exceptional Yes / Target / Exceptional No\")\n",
    "    print(\"(1) 5/25/86\\n(2) 7/35/88\\n(3) 10/50/91\\n(4) 11/55/92\\n(5) 15/75/96\\n(6) 16/85/97\\n(7) 18/90/99\\n(8) 19/95/100\\n(9) 20/100/0\")\n",
    "\n",
    "if(odds == \"5\"):\n",
    "    print(\"\\nSomewhat Likely...\\n\")\n",
    "    print(\"(Chaos Rank) Exceptional Yes / Target / Exceptional No\")\n",
    "    print(\"(1) 4/20/85\\n(2) 5/25/85\\n(3) 9/45/90\\n(4) 10/50/91\\n(5) 13/65/94\\n(6) 16/80/97\\n(7) 16/85/97\\n(8) 18/90/99\\n(9) 19/95/100\")\n",
    "    \n",
    "if(odds == \"6\"):\n",
    "    print(\"\\n50/50...\\n\")\n",
    "    print(\"(Chaos Rank) Exceptional Yes / Target / Exceptional No\")\n",
    "    print(\"(1) 2/10/83\\n(2) 3/15/84\\n(3) 5/25/86\\n(4) 7/35/88\\n(5) 10/50/91\\n(6) 13/65/94\\n(7) 15/75/96\\n(8) 16/85/97\\n(9) 19/95/100\")\n",
    "\n",
    "    \n",
    "if(odds == \"7\"):\n",
    "    print(\"\\nUnlikely...\\n\")\n",
    "    print(\"(Chaos Rank) Exceptional Yes / Target / Exceptional No\")    \n",
    "    print(\"(1) 1/5/82\\n(2) 2/10/83\\n(3) 3/15/84\\n(4) 4/20/85\\n(5) 7/35/88\\n(6) 10/50/91\\n(7) 11/55/92\\n(8) 15/75/96\\n(9) 18/90/99\")\n",
    "    \n",
    "\n",
    "if(odds == \"8\"):\n",
    "    print(\"\\nVery Unlikely...\\n\")\n",
    "    print(\"(Chaos Rank) Exceptional Yes / Target / Exceptional No\")\n",
    "    print(\"(1) 1/5/82\\n(2) 1/5/82\\n(3) 2/10/83\\n(4) 3/15/84\\n(5) 5/25/86\\n(6) 9/45/90\\n(7) 10/50/91\\n(8) 13/65/94\\n(9) 16/85/97\")\n",
    "    \n",
    "if(odds == \"9\"):\n",
    "    print(\"\\nNo Way...\\n\")\n",
    "    print(\"(Chaos Rank) Exceptional Yes / Target / Exceptional No\")\n",
    "    print(\"(1) 0/0/81\\n(2) 1/5/82\\n(3) 1/5/82\\n(4) 2/10/83\\n(5) 3/15/84\\n(6) 5/25/86\\n(7) 7/35/88\\n(8) 10/50/91\\n(9) 15/75/96\")\n",
    "    \n",
    "    \n",
    "if(odds == \"10\"):\n",
    "    print(\"\\nImpossible...\\n\")\n",
    "    print(\"(Chaos Rank) Exceptional Yes / Target / Exceptional No\") \n",
    "    print(\"(1) 0/-20/77\\n(2) 0/0/81\\n(3) 0/0/81\\n(4) 1/5/82\\n(5) 1/5/82\\n(6) 2/10/83\\n(7) 3/15/84\\n(8) 5/25/86\\n(9) 10/50/91\")\n",
    "    \n",
    "    "
   ]
  },
  {
   "cell_type": "code",
   "execution_count": null,
   "metadata": {},
   "outputs": [],
   "source": []
  },
  {
   "cell_type": "code",
   "execution_count": 1,
   "metadata": {},
   "outputs": [
    {
     "name": "stdout",
     "output_type": "stream",
     "text": [
      "['Magic runes that activate when a character steps into and area casting floor of ice. To move characters must roll dexterity or fall probe and take damage.']\n"
     ]
    }
   ],
   "source": [
    "# Deadly Traps\n",
    "\n",
    "import csv\n",
    "import random\n",
    "\n",
    "with open('/Users/warrenstull/OneDrive/Frostgrave/58_deadly_traps', 'r', encoding='UTF-8') as f:\n",
    "  reader = csv.reader(f)\n",
    "  random_table = list(reader)\n",
    "\n",
    "print(random.choice(random_table))"
   ]
  },
  {
   "cell_type": "code",
   "execution_count": 2,
   "metadata": {},
   "outputs": [
    {
     "name": "stdout",
     "output_type": "stream",
     "text": [
      "['Fencing with wooden swords. Three hits and youre out! (Standard Combat Rules)']\n"
     ]
    }
   ],
   "source": [
    "# Activites at a local Faire\n",
    "\n",
    "import csv\n",
    "import random\n",
    "\n",
    "with open('/Users/warrenstull/OneDrive/Frostgrave/100_activites_local_faire', 'r', encoding='UTF-8') as f:\n",
    "  reader = csv.reader(f)\n",
    "  random_table = list(reader)\n",
    "\n",
    "print(random.choice(random_table))"
   ]
  },
  {
   "cell_type": "code",
   "execution_count": 2,
   "metadata": {},
   "outputs": [
    {
     "name": "stdout",
     "output_type": "stream",
     "text": [
      "['Kelpy capsules: When thrown into salt water', ' out a emerges a fully grown kelpy ready to ride out to where the rider desires. Throw it into freshwater and you get a dead kelpy.']\n"
     ]
    }
   ],
   "source": [
    "# Aquatic Items\n",
    "\n",
    "import csv\n",
    "import random\n",
    "\n",
    "with open('/Users/warrenstull/OneDrive/Frostgrave/100_aquatic_items', 'r', encoding='UTF-8') as f:\n",
    "  reader = csv.reader(f)\n",
    "  random_table = list(reader)\n",
    "\n",
    "print(random.choice(random_table))"
   ]
  },
  {
   "cell_type": "code",
   "execution_count": null,
   "metadata": {},
   "outputs": [],
   "source": [
    "# Art Along the Path\n",
    "\n",
    "import csv\n",
    "import random\n",
    "\n",
    "with open('/Users/warrenstull/OneDrive/Frostgrave/100_art_along_the-path', 'r', encoding='UTF-8') as f:\n",
    "  reader = csv.reader(f)\n",
    "  random_table = list(reader)\n",
    "\n",
    "print(random.choice(random_table))"
   ]
  },
  {
   "cell_type": "code",
   "execution_count": 1,
   "metadata": {},
   "outputs": [
    {
     "name": "stdout",
     "output_type": "stream",
     "text": [
      "['Spear of Thirst: This spear is +4 to hit and does 1d12 piercing damage plus 1d12 necrotic damage as it sucks fluids from the victim’s body. On a critical hit', ' the victim must make a DC 15 CON save or die', ' drained to a husk. The wielder gets 1d4 temporary HP each time it kills someone with a spear. Destroyed by: Submerge it in the body of a radiant creature like an angel. Or an undead: it can’t drink from the undead.']\n"
     ]
    }
   ],
   "source": [
    "# Artifacts of Great Power\n",
    "\n",
    "import csv\n",
    "import random\n",
    "\n",
    "with open('/Users/warrenstull/OneDrive/Frostgrave/100_artifacts_of_great_power', 'r', encoding='UTF-8') as f:\n",
    "  reader = csv.reader(f)\n",
    "  random_table = list(reader)\n",
    "\n",
    "print(random.choice(random_table))"
   ]
  },
  {
   "cell_type": "code",
   "execution_count": null,
   "metadata": {},
   "outputs": [],
   "source": [
    "# Beholder Personalities\n",
    "\n",
    "import csv\n",
    "import random\n",
    "\n",
    "with open('/Users/warrenstull/OneDrive/Frostgrave/100_beholder_personalities', 'r', encoding='UTF-8') as f:\n",
    "  reader = csv.reader(f)\n",
    "  random_table = list(reader)\n",
    "\n",
    "print(random.choice(random_table))"
   ]
  },
  {
   "cell_type": "code",
   "execution_count": null,
   "metadata": {},
   "outputs": [],
   "source": [
    "# Boss Mechanics\n",
    "\n",
    "import csv\n",
    "import random\n",
    "\n",
    "with open('/Users/warrenstull/OneDrive/Frostgrave/100_boss_mechanics', 'r', encoding='UTF-8') as f:\n",
    "  reader = csv.reader(f)\n",
    "  random_table = list(reader)\n",
    "\n",
    "print(random.choice(random_table))"
   ]
  },
  {
   "cell_type": "code",
   "execution_count": null,
   "metadata": {},
   "outputs": [],
   "source": [
    "# campaign_start_scenarios\n",
    "\n",
    "import csv\n",
    "import random\n",
    "\n",
    "with open('/Users/warrenstull/OneDrive/Frostgrave/100_campaign_start_scenarios', 'r', encoding='UTF-8') as f:\n",
    "  reader = csv.reader(f)\n",
    "  random_table = list(reader)\n",
    "\n",
    "print(random.choice(random_table))"
   ]
  },
  {
   "cell_type": "code",
   "execution_count": null,
   "metadata": {},
   "outputs": [],
   "source": [
    "# Campsite Items\n",
    "\n",
    "import csv\n",
    "\n",
    "with open('/Users/warrenstull/OneDrive/Frostgrave/100_campsite_items', 'r', encoding='UTF-8') as f:\n",
    "  reader = csv.reader(f)\n",
    "  random_table = list(reader)\n",
    "\n",
    "print(random.choice(random_table))"
   ]
  },
  {
   "cell_type": "code",
   "execution_count": 3,
   "metadata": {},
   "outputs": [
    {
     "name": "stdout",
     "output_type": "stream",
     "text": [
      "['You were part of a desert caravan that ran out of water. But a vision appeared leading to an unknown oasis … and commanding you to go to the city of (Plot starts here).']\n"
     ]
    }
   ],
   "source": [
    "# character_npc_backgrounds\n",
    "\n",
    "import csv\n",
    "import random\n",
    "\n",
    "with open('/Users/warrenstull/OneDrive/Frostgrave/100_character_npc_backgrounds', 'r', encoding='UTF-8') as f:\n",
    "  reader = csv.reader(f)\n",
    "  random_table = list(reader)\n",
    "\n",
    "print(random.choice(random_table))"
   ]
  },
  {
   "cell_type": "code",
   "execution_count": null,
   "metadata": {},
   "outputs": [],
   "source": [
    "# city_quests\n",
    "\n",
    "import csv\n",
    "import random\n",
    "\n",
    "with open('/Users/warrenstull/OneDrive/Frostgrave/100_city_quests', 'r', encoding='UTF-8') as f:\n",
    "  reader = csv.reader(f)\n",
    "  random_table = list(reader)\n",
    "\n",
    "print(random.choice(random_table))"
   ]
  },
  {
   "cell_type": "code",
   "execution_count": null,
   "metadata": {},
   "outputs": [],
   "source": [
    "# curiosities_within_a_cavern\n",
    "\n",
    "import csv\n",
    "import random\n",
    "\n",
    "with open('/Users/warrenstull/OneDrive/Frostgrave/100_curiosities_within_a_cavern', 'r', encoding='UTF-8') as f:\n",
    "  reader = csv.reader(f)\n",
    "  random_table = list(reader)\n",
    "\n",
    "print(random.choice(random_table))"
   ]
  },
  {
   "cell_type": "code",
   "execution_count": null,
   "metadata": {},
   "outputs": [],
   "source": [
    "# curses\n",
    "\n",
    "import csv\n",
    "import random\n",
    "\n",
    "with open('/Users/warrenstull/OneDrive/Frostgrave/100_curses', 'r', encoding='UTF-8') as f:\n",
    "  reader = csv.reader(f)\n",
    "  random_table = list(reader)\n",
    "\n",
    "print(random.choice(random_table))"
   ]
  },
  {
   "cell_type": "code",
   "execution_count": null,
   "metadata": {},
   "outputs": [],
   "source": [
    "# Dark Gifts\n",
    "\n",
    "\n",
    "import csv\n",
    "import random\n",
    "\n",
    "with open('/Users/warrenstull/OneDrive/Frostgrave/100_dark_gifts', 'r', encoding='UTF-8') as f:\n",
    "  reader = csv.reader(f)\n",
    "  random_table = list(reader)\n",
    "\n",
    "print(random.choice(random_table))\n"
   ]
  },
  {
   "cell_type": "code",
   "execution_count": null,
   "metadata": {},
   "outputs": [],
   "source": [
    "# demon_lords\n",
    "\n",
    "import csv\n",
    "import random\n",
    "\n",
    "with open('/Users/warrenstull/OneDrive/Frostgrave/100_demon_lords', 'r', encoding='UTF-8') as f:\n",
    "  reader = csv.reader(f)\n",
    "  random_table = list(reader)\n",
    "\n",
    "print(random.choice(random_table))"
   ]
  },
  {
   "cell_type": "code",
   "execution_count": null,
   "metadata": {},
   "outputs": [],
   "source": [
    "# demon_physical_traits\n",
    "\n",
    "import csv\n",
    "import random\n",
    "\n",
    "\n",
    "with open('/Users/warrenstull/OneDrive/Frostgrave/100_demon_physical_traits', 'r', encoding='UTF-8') as f:\n",
    "  reader = csv.reader(f)\n",
    "  random_table = list(reader)\n",
    "\n",
    "print(random.choice(random_table))"
   ]
  },
  {
   "cell_type": "code",
   "execution_count": null,
   "metadata": {},
   "outputs": [],
   "source": [
    "# demonic_treasures\n",
    "\n",
    "import csv\n",
    "import random\n",
    "\n",
    "with open('/Users/warrenstull/OneDrive/Frostgrave/100_demonic_treasures', 'r', encoding='UTF-8') as f:\n",
    "  reader = csv.reader(f)\n",
    "  random_table = list(reader)\n",
    "\n",
    "print(random.choice(random_table))"
   ]
  },
  {
   "cell_type": "code",
   "execution_count": null,
   "metadata": {},
   "outputs": [],
   "source": [
    "# diseases\n",
    "\n",
    "import csv\n",
    "import random\n",
    "\n",
    "with open('/Users/warrenstull/OneDrive/Frostgrave/100_diseases', 'r', encoding='UTF-8') as f:\n",
    "  reader = csv.reader(f)\n",
    "  random_table = list(reader)\n",
    "\n",
    "print(random.choice(random_table))"
   ]
  },
  {
   "cell_type": "code",
   "execution_count": null,
   "metadata": {},
   "outputs": [],
   "source": [
    "# druidic_treasures\n",
    "\n",
    "import csv\n",
    "import random\n",
    "\n",
    "with open('/Users/warrenstull/OneDrive/Frostgrave/100_druidic_treasures', 'r', encoding='UTF-8') as f:\n",
    "  reader = csv.reader(f)\n",
    "  random_table = list(reader)\n",
    "\n",
    "print(random.choice(random_table))"
   ]
  },
  {
   "cell_type": "code",
   "execution_count": null,
   "metadata": {},
   "outputs": [],
   "source": [
    "# dungeon_graffiti\n",
    "\n",
    "import csv\n",
    "import random\n",
    "\n",
    "with open('/Users/warrenstull/OneDrive/Frostgrave/100_dungeon_graffiti', 'r', encoding='UTF-8') as f:\n",
    "  reader = csv.reader(f)\n",
    "  random_table = list(reader)\n",
    "\n",
    "print(random.choice(random_table))"
   ]
  },
  {
   "cell_type": "code",
   "execution_count": null,
   "metadata": {},
   "outputs": [],
   "source": [
    "# familiars_pets\n",
    "\n",
    "import csv\n",
    "import random\n",
    "\n",
    "with open('/Users/warrenstull/OneDrive/Frostgrave/100_familiars_pets', 'r', encoding='UTF-8') as f:\n",
    "  reader = csv.reader(f)\n",
    "  random_table = list(reader)\n",
    "\n",
    "print(random.choice(random_table))"
   ]
  },
  {
   "cell_type": "code",
   "execution_count": 4,
   "metadata": {},
   "outputs": [
    {
     "name": "stdout",
     "output_type": "stream",
     "text": [
      "['    Yggdrasil Sap: A legendary drug that causes you to see into your future. This future is usually the users own death if they don’t pass the DC 15 Constitution saving throw to not die from it.']\n"
     ]
    }
   ],
   "source": [
    "# 100_fantasy_drugs_and_side_effects\n",
    "\n",
    "import csv\n",
    "import random\n",
    "\n",
    "with open('/Users/warrenstull/OneDrive/Frostgrave/100_fantasy_drugs_and_side_effects', 'r', encoding='UTF-8') as f:\n",
    "  reader = csv.reader(f)\n",
    "  random_table = list(reader)\n",
    "\n",
    "print(random.choice(random_table))"
   ]
  },
  {
   "cell_type": "code",
   "execution_count": null,
   "metadata": {},
   "outputs": [],
   "source": [
    "# 100_fears_phobias\n",
    "\n",
    "import csv\n",
    "import random\n",
    "\n",
    "with open('/Users/warrenstull/OneDrive/Frostgrave/100_fears_phobias', 'r', encoding='UTF-8') as f:\n",
    "  reader = csv.reader(f)\n",
    "  random_table = list(reader)\n",
    "\n",
    "print(random.choice(random_table))"
   ]
  },
  {
   "cell_type": "code",
   "execution_count": null,
   "metadata": {},
   "outputs": [],
   "source": [
    "# 100_fey_bargins\n",
    "\n",
    "import csv\n",
    "import random\n",
    "\n",
    "with open('/Users/warrenstull/OneDrive/Frostgrave/100_fey_bargins', 'r', encoding='UTF-8') as f:\n",
    "  reader = csv.reader(f)\n",
    "  random_table = list(reader)\n",
    "\n",
    "print(random.choice(random_table))"
   ]
  },
  {
   "cell_type": "code",
   "execution_count": null,
   "metadata": {},
   "outputs": [],
   "source": [
    "# 100_forest_encounters\n",
    "\n",
    "import csv\n",
    "import random\n",
    "\n",
    "with open('/Users/warrenstull/OneDrive/Frostgrave/100_forest_encounters', 'r', encoding='UTF-8') as f:\n",
    "  reader = csv.reader(f)\n",
    "  random_table = list(reader)\n",
    "\n",
    "print(random.choice(random_table))"
   ]
  },
  {
   "cell_type": "code",
   "execution_count": null,
   "metadata": {},
   "outputs": [],
   "source": [
    "# 100_ghosts_unfinished_business\n",
    "\n",
    "import csv\n",
    "import random\n",
    "\n",
    "with open('/Users/warrenstull/OneDrive/Frostgrave/100_ghosts_unfinished_business', 'r', encoding='UTF-8') as f:\n",
    "  reader = csv.reader(f)\n",
    "  random_table = list(reader)\n",
    "\n",
    "print(random.choice(random_table))"
   ]
  },
  {
   "cell_type": "code",
   "execution_count": null,
   "metadata": {},
   "outputs": [],
   "source": [
    "# 100_gnomish_inventions_where_safety_was_an_afterthought\n",
    "\n",
    "import csv\n",
    "import random\n",
    "\n",
    "with open('/Users/warrenstull/OneDrive/Frostgrave/100_gnomish_inventions_where_safety_was_an_afterthought', 'r', encoding='UTF-8') as f:\n",
    "  reader = csv.reader(f)\n",
    "  random_table = list(reader)\n",
    "\n",
    "print(random.choice(random_table))"
   ]
  },
  {
   "cell_type": "code",
   "execution_count": null,
   "metadata": {},
   "outputs": [],
   "source": [
    "# 100_insanity_effects\n",
    "\n",
    "import csv\n",
    "import random\n",
    "\n",
    "with open('/Users/warrenstull/OneDrive/Frostgrave/100_insanity_effects', 'r', encoding='UTF-8') as f:\n",
    "  reader = csv.reader(f)\n",
    "  random_table = list(reader)\n",
    "\n",
    "print(random.choice(random_table))"
   ]
  },
  {
   "cell_type": "code",
   "execution_count": null,
   "metadata": {},
   "outputs": [],
   "source": [
    "# 100_interesting_books\n",
    "\n",
    "import csv\n",
    "import random\n",
    "\n",
    "with open('/Users/warrenstull/OneDrive/Frostgrave/100_interesting_books', 'r', encoding='UTF-8') as f:\n",
    "  reader = csv.reader(f)\n",
    "  random_table = list(reader)\n",
    "\n",
    "print(random.choice(random_table))"
   ]
  },
  {
   "cell_type": "code",
   "execution_count": null,
   "metadata": {},
   "outputs": [],
   "source": [
    "# 100_interesting_desert_locations\n",
    "\n",
    "import csv\n",
    "import random\n",
    "\n",
    "with open('/Users/warrenstull/OneDrive/Frostgrave/100_interesting_desert_locations', 'r', encoding='UTF-8') as f:\n",
    "  reader = csv.reader(f)\n",
    "  random_table = list(reader)\n",
    "\n",
    "print(random.choice(random_table))"
   ]
  },
  {
   "cell_type": "code",
   "execution_count": null,
   "metadata": {},
   "outputs": [],
   "source": [
    "# 100_interesting_dungeon_encounters\n",
    "\n",
    "import csv\n",
    "import random\n",
    "\n",
    "with open('/Users/warrenstull/OneDrive/Frostgrave/100_interesting_dungeon_encounters', 'r', encoding='UTF-8') as f:\n",
    "  reader = csv.reader(f)\n",
    "  random_table = list(reader)\n",
    "\n",
    "print(random.choice(random_table))"
   ]
  },
  {
   "cell_type": "code",
   "execution_count": null,
   "metadata": {},
   "outputs": [],
   "source": [
    "# 100_interesting_forest_locations\n",
    "\n",
    "import csv\n",
    "import random\n",
    "\n",
    "with open('/Users/warrenstull/OneDrive/Frostgrave/100_interesting_forest_locations', 'r', encoding='UTF-8') as f:\n",
    "  reader = csv.reader(f)\n",
    "  random_table = list(reader)\n",
    "\n",
    "print(random.choice(random_table))"
   ]
  },
  {
   "cell_type": "code",
   "execution_count": 7,
   "metadata": {},
   "outputs": [
    {
     "name": "stdout",
     "output_type": "stream",
     "text": [
      "['    A drinking horn.']\n"
     ]
    }
   ],
   "source": [
    "# 100_interesting_potion_containers\n",
    "\n",
    "import csv\n",
    "import random\n",
    "\n",
    "with open('/Users/warrenstull/OneDrive/Frostgrave/100_interesting_potion_containers', 'r', encoding='UTF-8') as f:\n",
    "  reader = csv.reader(f)\n",
    "  random_table = list(reader)\n",
    "\n",
    "print(random.choice(random_table))"
   ]
  },
  {
   "cell_type": "code",
   "execution_count": null,
   "metadata": {},
   "outputs": [],
   "source": [
    "# 100_intersting_temples_monasteries\n",
    "\n",
    "import csv\n",
    "import random\n",
    "\n",
    "with open('/Users/warrenstull/OneDrive/Frostgrave/100_intersting_temples_monasteries', 'r', encoding='UTF-8') as f:\n",
    "  reader = csv.reader(f)\n",
    "  random_table = list(reader)\n",
    "\n",
    "print(random.choice(random_table))"
   ]
  },
  {
   "cell_type": "code",
   "execution_count": 8,
   "metadata": {},
   "outputs": [
    {
     "name": "stdout",
     "output_type": "stream",
     "text": [
      "['    A feather.']\n"
     ]
    }
   ],
   "source": [
    "# 100_items_in_an_NPCs_pocket\n",
    "\n",
    "import csv\n",
    "import random\n",
    "\n",
    "with open('/Users/warrenstull/OneDrive/Frostgrave/100_items_in_an_NPCs_pocket', 'r', encoding='UTF-8') as f:\n",
    "  reader = csv.reader(f)\n",
    "  random_table = list(reader)\n",
    "\n",
    "print(random.choice(random_table))"
   ]
  },
  {
   "cell_type": "code",
   "execution_count": null,
   "metadata": {},
   "outputs": [],
   "source": [
    "# 100_items_in_bandit_lair\n",
    "\n",
    "import csv\n",
    "\n",
    "with open('/Users/warrenstull/OneDrive/Frostgrave/100_items_in_bandit_lair', 'r', encoding='UTF-8') as f:\n",
    "  reader = csv.reader(f)\n",
    "  random_table = list(reader)\n",
    "\n",
    "print(random.choice(random_table))"
   ]
  },
  {
   "cell_type": "code",
   "execution_count": 9,
   "metadata": {},
   "outputs": [
    {
     "name": "stdout",
     "output_type": "stream",
     "text": [
      "['    A pair of huge worn resoled boots laced with what looks like braided hair.']\n"
     ]
    }
   ],
   "source": [
    "# 100_items_in_fantasy_thrift_shop\n",
    "\n",
    "import csv\n",
    "import random\n",
    "\n",
    "with open('/Users/warrenstull/OneDrive/Frostgrave/100_items_in_fantasy_thrift_shop', 'r', encoding='UTF-8') as f:\n",
    "  reader = csv.reader(f)\n",
    "  random_table = list(reader)\n",
    "\n",
    "print(random.choice(random_table))"
   ]
  },
  {
   "cell_type": "code",
   "execution_count": null,
   "metadata": {
    "scrolled": true
   },
   "outputs": [],
   "source": [
    "# 100_jobs_posted_to_a_tavern_community_board\n",
    "\n",
    "import csv\n",
    "import random\n",
    "\n",
    "with open('/Users/warrenstull/OneDrive/Frostgrave/100_jobs_posted_to_a_tavern_community_board', 'r', encoding='UTF-8') as f:\n",
    "  reader = csv.reader(f)\n",
    "  random_table = list(reader)\n",
    "\n",
    "print(random.choice(random_table))"
   ]
  },
  {
   "cell_type": "code",
   "execution_count": null,
   "metadata": {},
   "outputs": [],
   "source": [
    "# 100_jungle_encounters\n",
    "\n",
    "import csv\n",
    "import random\n",
    "\n",
    "with open('/Users/warrenstull/OneDrive/Frostgrave/100_jungle_encounters', 'r', encoding='UTF-8') as f:\n",
    "  reader = csv.reader(f)\n",
    "  random_table = list(reader)\n",
    "\n",
    "print(random.choice(random_table))"
   ]
  },
  {
   "cell_type": "code",
   "execution_count": null,
   "metadata": {},
   "outputs": [],
   "source": [
    "# 100_library_books\n",
    "\n",
    "import csv\n",
    "import random\n",
    "\n",
    "with open('/Users/warrenstull/OneDrive/Frostgrave/100_library_books', 'r', encoding='UTF-8') as f:\n",
    "  reader = csv.reader(f)\n",
    "  random_table = list(reader)\n",
    "\n",
    "print(random.choice(random_table))"
   ]
  },
  {
   "cell_type": "code",
   "execution_count": null,
   "metadata": {},
   "outputs": [],
   "source": [
    "# 100_long_rest_events\n",
    "\n",
    "import csv\n",
    "import random\n",
    "\n",
    "with open('/Users/warrenstull/OneDrive/Frostgrave/100_long_rest_events', 'r', encoding='UTF-8') as f:\n",
    "  reader = csv.reader(f)\n",
    "  random_table = list(reader)\n",
    "\n",
    "print(random.choice(random_table))"
   ]
  },
  {
   "cell_type": "code",
   "execution_count": null,
   "metadata": {},
   "outputs": [],
   "source": [
    "# 100_market_vendors\n",
    "\n",
    "import csv\n",
    "import random\n",
    "\n",
    "with open('/Users/warrenstull/OneDrive/Frostgrave/100_market_vendors', 'r', encoding='UTF-8') as f:\n",
    "  reader = csv.reader(f)\n",
    "  random_table = list(reader)\n",
    "\n",
    "print(random.choice(random_table))"
   ]
  },
  {
   "cell_type": "code",
   "execution_count": null,
   "metadata": {},
   "outputs": [],
   "source": [
    "# 100_meals_from_monster_parts\n",
    "\n",
    "import csv\n",
    "import random\n",
    "\n",
    "with open('/Users/warrenstull/OneDrive/Frostgrave/100_meals_from_monster_parts', 'r', encoding='UTF-8') as f:\n",
    "  reader = csv.reader(f)\n",
    "  random_table = list(reader)\n",
    "\n",
    "print(random.choice(random_table))"
   ]
  },
  {
   "cell_type": "code",
   "execution_count": null,
   "metadata": {},
   "outputs": [],
   "source": [
    "# 100_memorable_goblins\n",
    "\n",
    "import csv\n",
    "import random\n",
    "\n",
    "with open('/Users/warrenstull/OneDrive/Frostgrave/100_memorable_goblins', 'r', encoding='UTF-8') as f:\n",
    "  reader = csv.reader(f)\n",
    "  random_table = list(reader)\n",
    "\n",
    "print(random.choice(random_table))"
   ]
  },
  {
   "cell_type": "code",
   "execution_count": null,
   "metadata": {},
   "outputs": [],
   "source": [
    "# 100_mysterious_trinkets\n",
    "\n",
    "import csv\n",
    "import random\n",
    "\n",
    "with open('/Users/warrenstull/OneDrive/Frostgrave/100_mysterious_trinkets', 'r', encoding='UTF-8') as f:\n",
    "  reader = csv.reader(f)\n",
    "  random_table = list(reader)\n",
    "\n",
    "print(random.choice(random_table))"
   ]
  },
  {
   "cell_type": "code",
   "execution_count": null,
   "metadata": {},
   "outputs": [],
   "source": [
    "# 100_natural_landmarks\n",
    "\n",
    "import csv\n",
    "import random\n",
    "\n",
    "with open('/Users/warrenstull/OneDrive/Frostgrave/100_natural_landmarks', 'r', encoding='UTF-8') as f:\n",
    "  reader = csv.reader(f)\n",
    "  random_table = list(reader)\n",
    "\n",
    "print(random.choice(random_table))"
   ]
  },
  {
   "cell_type": "code",
   "execution_count": null,
   "metadata": {},
   "outputs": [],
   "source": [
    "# 100_nordic_viking_encounters\n",
    "\n",
    "import csv\n",
    "import random\n",
    "\n",
    "with open('/Users/warrenstull/OneDrive/Frostgrave/100_nordic_viking_encounters', 'r', encoding='UTF-8') as f:\n",
    "  reader = csv.reader(f)\n",
    "  random_table = list(reader)\n",
    "\n",
    "print(random.choice(random_table))"
   ]
  },
  {
   "cell_type": "code",
   "execution_count": null,
   "metadata": {},
   "outputs": [],
   "source": [
    "# 100_options_magic_coat_many_sides\n",
    "\n",
    "import csv\n",
    "import random\n",
    "\n",
    "with open('/Users/warrenstull/OneDrive/Frostgrave/100_options_magic_coat_many_sides', 'r', encoding='UTF-8') as f:\n",
    "  reader = csv.reader(f)\n",
    "  random_table = list(reader)\n",
    "\n",
    "print(random.choice(random_table))"
   ]
  },
  {
   "cell_type": "code",
   "execution_count": null,
   "metadata": {},
   "outputs": [],
   "source": [
    "# 100_personality_quirks\n",
    "\n",
    "import csv\n",
    "import random\n",
    "\n",
    "with open('/Users/warrenstull/OneDrive/Frostgrave/100_personality_quirks', 'r', encoding='UTF-8') as f:\n",
    "  reader = csv.reader(f)\n",
    "  random_table = list(reader)\n",
    "\n",
    "print(random.choice(random_table))"
   ]
  },
  {
   "cell_type": "code",
   "execution_count": null,
   "metadata": {},
   "outputs": [],
   "source": [
    "# 100_places_to_hide_an-item_in-a-room-without-magic\n",
    "\n",
    "import csv\n",
    "import random\n",
    "\n",
    "with open('/Users/warrenstull/OneDrive/Frostgrave/100_places_to_hide_an-item_in-a-room-without-magic', 'r', encoding='UTF-8') as f:\n",
    "  reader = csv.reader(f)\n",
    "  random_table = list(reader)\n",
    "\n",
    "print(random.choice(random_table))"
   ]
  },
  {
   "cell_type": "code",
   "execution_count": null,
   "metadata": {},
   "outputs": [],
   "source": [
    "# 100_quest_rewards\n",
    "\n",
    "import csv\n",
    "import random\n",
    "\n",
    "with open('/Users/warrenstull/OneDrive/Frostgrave/100_quest_rewards', 'r', encoding='UTF-8') as f:\n",
    "  reader = csv.reader(f)\n",
    "  random_table = list(reader)\n",
    "\n",
    "print(random.choice(random_table))"
   ]
  },
  {
   "cell_type": "code",
   "execution_count": null,
   "metadata": {},
   "outputs": [],
   "source": [
    "# 100_random_boons (a thing that is helpful or beneficial)\n",
    "\n",
    "import csv\n",
    "import random\n",
    "\n",
    "with open('/Users/warrenstull/OneDrive/Frostgrave/100_random_boons', 'r', encoding='UTF-8') as f:\n",
    "  reader = csv.reader(f)\n",
    "  random_table = list(reader)\n",
    "\n",
    "print(random.choice(random_table))"
   ]
  },
  {
   "cell_type": "code",
   "execution_count": null,
   "metadata": {},
   "outputs": [],
   "source": [
    "# 100_random_effects\n",
    "\n",
    "import csv\n",
    "import random\n",
    "\n",
    "with open('/Users/warrenstull/OneDrive/Frostgrave/100_random_effects', 'r', encoding='UTF-8') as f:\n",
    "  reader = csv.reader(f)\n",
    "  random_table = list(reader)\n",
    "\n",
    "print(random.choice(random_table))"
   ]
  },
  {
   "cell_type": "code",
   "execution_count": null,
   "metadata": {},
   "outputs": [],
   "source": [
    "# 100_random_potion_effects\n",
    "\n",
    "import csv\n",
    "import random\n",
    "\n",
    "with open('/Users/warrenstull/OneDrive/Frostgrave/100_random_potion_effects', 'r', encoding='UTF-8') as f:\n",
    "  reader = csv.reader(f)\n",
    "  random_table = list(reader)\n",
    "\n",
    "print(random.choice(random_table))"
   ]
  },
  {
   "cell_type": "code",
   "execution_count": null,
   "metadata": {},
   "outputs": [],
   "source": [
    "# 100_random_trinkets_and_minor_magic_items\n",
    "\n",
    "import csv\n",
    "import random\n",
    "\n",
    "with open('/Users/warrenstull/OneDrive/Frostgrave/100_random_trinkets_and_minor_magic_items', 'r', encoding='UTF-8') as f:\n",
    "  reader = csv.reader(f)\n",
    "  random_table = list(reader)\n",
    "\n",
    "print(random.choice(random_table))"
   ]
  },
  {
   "cell_type": "code",
   "execution_count": null,
   "metadata": {},
   "outputs": [],
   "source": [
    "# 100_riddles_and_answers\n",
    "\n",
    "import csv\n",
    "import random\n",
    "\n",
    "with open('/Users/warrenstull/OneDrive/Frostgrave/100_riddles_and_answers', 'r', encoding='UTF-8') as f:\n",
    "  reader = csv.reader(f)\n",
    "  random_table = list(reader)\n",
    "\n",
    "print(random.choice(random_table))"
   ]
  },
  {
   "cell_type": "code",
   "execution_count": null,
   "metadata": {},
   "outputs": [],
   "source": [
    "# 100_scary_forest_encounters\n",
    "\n",
    "import csv\n",
    "import random\n",
    "\n",
    "with open('/Users/warrenstull/OneDrive/Frostgrave/100_scary_forest_encounters', 'r', encoding='UTF-8') as f:\n",
    "  reader = csv.reader(f)\n",
    "  random_table = list(reader)\n",
    "\n",
    "print(random.choice(random_table))"
   ]
  },
  {
   "cell_type": "code",
   "execution_count": null,
   "metadata": {},
   "outputs": [],
   "source": [
    "# 100_secrets_village_conceals_from_outsiders\n",
    "\n",
    "import csv\n",
    "import random\n",
    "\n",
    "with open('/Users/warrenstull/OneDrive/Frostgrave/100_secrets_village_conceals_from_outsiders', 'r', encoding='UTF-8') as f:\n",
    "  reader = csv.reader(f)\n",
    "  random_table = list(reader)\n",
    "\n",
    "print(random.choice(random_table))"
   ]
  },
  {
   "cell_type": "code",
   "execution_count": null,
   "metadata": {},
   "outputs": [],
   "source": [
    "# 100_ship_names_and_descriptions\n",
    "\n",
    "import csv\n",
    "import random\n",
    "\n",
    "with open('/Users/warrenstull/OneDrive/Frostgrave/100_ship_names_and_descriptions', 'r', encoding='UTF-8') as f:\n",
    "  reader = csv.reader(f)\n",
    "  random_table = list(reader)\n",
    "\n",
    "print(random.choice(random_table))"
   ]
  },
  {
   "cell_type": "code",
   "execution_count": null,
   "metadata": {},
   "outputs": [],
   "source": [
    "# 100_shops_and_stores\n",
    "\n",
    "import csv\n",
    "import random\n",
    "\n",
    "with open('/Users/warrenstull/OneDrive/Frostgrave/100_shops_and_stores', 'r', encoding='UTF-8') as f:\n",
    "  reader = csv.reader(f)\n",
    "  random_table = list(reader)\n",
    "\n",
    "print(random.choice(random_table))"
   ]
  },
  {
   "cell_type": "code",
   "execution_count": null,
   "metadata": {},
   "outputs": [],
   "source": [
    "# 100_side_quest_hooks\n",
    "\n",
    "import csv\n",
    "import random\n",
    "\n",
    "with open('/Users/warrenstull/OneDrive/Frostgrave/100_side_quest_hooks', 'r', encoding='UTF-8') as f:\n",
    "  reader = csv.reader(f)\n",
    "  random_table = list(reader)\n",
    "\n",
    "print(random.choice(random_table))"
   ]
  },
  {
   "cell_type": "code",
   "execution_count": null,
   "metadata": {},
   "outputs": [],
   "source": [
    "# 100_signature_tavern_drinks\n",
    "\n",
    "import csv\n",
    "import random\n",
    "\n",
    "with open('/Users/warrenstull/OneDrive/Frostgrave/100_signature_tavern_drinks', 'r', encoding='UTF-8') as f:\n",
    "  reader = csv.reader(f)\n",
    "  random_table = list(reader)\n",
    "\n",
    "print(random.choice(random_table))"
   ]
  },
  {
   "cell_type": "code",
   "execution_count": null,
   "metadata": {},
   "outputs": [],
   "source": [
    "# 100_social_encounters_on_the_road\n",
    "\n",
    "import csv\n",
    "import random\n",
    "\n",
    "with open('/Users/warrenstull/OneDrive/Frostgrave/100_social_encounters_on_the_road', 'r', encoding='UTF-8') as f:\n",
    "  reader = csv.reader(f)\n",
    "  random_table = list(reader)\n",
    "\n",
    "print(random.choice(random_table))"
   ]
  },
  {
   "cell_type": "code",
   "execution_count": null,
   "metadata": {},
   "outputs": [],
   "source": [
    "# 100_tavern_encounters\n",
    "\n",
    "import csv\n",
    "import random\n",
    "\n",
    "with open('/Users/warrenstull/OneDrive/Frostgrave/100_tavern_encounters', 'r', encoding='UTF-8') as f:\n",
    "  reader = csv.reader(f)\n",
    "  random_table = list(reader)\n",
    "\n",
    "print(random.choice(random_table))"
   ]
  },
  {
   "cell_type": "code",
   "execution_count": null,
   "metadata": {},
   "outputs": [],
   "source": [
    "# 100_tavern_foods\n",
    "\n",
    "import csv\n",
    "import random\n",
    "\n",
    "with open('/Users/warrenstull/OneDrive/Frostgrave/100_tavern_foods', 'r', encoding='UTF-8') as f:\n",
    "  reader = csv.reader(f)\n",
    "  random_table = list(reader)\n",
    "\n",
    "print(random.choice(random_table))"
   ]
  },
  {
   "cell_type": "code",
   "execution_count": null,
   "metadata": {},
   "outputs": [],
   "source": [
    "# 100_tavern_names\n",
    "\n",
    "import csv\n",
    "import random\n",
    "\n",
    "with open('/Users/warrenstull/OneDrive/Frostgrave/100_tavern_names', 'r', encoding='UTF-8') as f:\n",
    "  reader = csv.reader(f)\n",
    "  random_table = list(reader)\n",
    "\n",
    "print(random.choice(random_table))"
   ]
  },
  {
   "cell_type": "code",
   "execution_count": null,
   "metadata": {},
   "outputs": [],
   "source": [
    "# 100_teleportation_mishaps\n",
    "\n",
    "import csv\n",
    "import random\n",
    "\n",
    "with open('/Users/warrenstull/OneDrive/Frostgrave/100_teleportation_mishaps', 'r', encoding='UTF-8') as f:\n",
    "  reader = csv.reader(f)\n",
    "  random_table = list(reader)\n",
    "\n",
    "print(random.choice(random_table))"
   ]
  },
  {
   "cell_type": "code",
   "execution_count": null,
   "metadata": {},
   "outputs": [],
   "source": [
    "# 100_thing_found_in_a_grave\n",
    "\n",
    "import csv\n",
    "import random\n",
    "\n",
    "with open('/Users/warrenstull/OneDrive/Frostgrave/100_thing_found_in_a_grave', 'r', encoding='UTF-8') as f:\n",
    "  reader = csv.reader(f)\n",
    "  random_table = list(reader)\n",
    "\n",
    "print(random.choice(random_table))"
   ]
  },
  {
   "cell_type": "code",
   "execution_count": null,
   "metadata": {},
   "outputs": [],
   "source": [
    "# 100_things_after_a_night_of_drinking\n",
    "\n",
    "import csv\n",
    "import random\n",
    "\n",
    "with open('/Users/warrenstull/OneDrive/Frostgrave/100_things_after_a_night_of_drinking', 'r', encoding='UTF-8') as f:\n",
    "  reader = csv.reader(f)\n",
    "  random_table = list(reader)\n",
    "\n",
    "print(random.choice(random_table))"
   ]
  },
  {
   "cell_type": "code",
   "execution_count": null,
   "metadata": {},
   "outputs": [],
   "source": [
    "# 100_things_in_an_Orge's_Pocket\n",
    "\n",
    "import csv\n",
    "import random\n",
    "\n",
    "with open('/Users/warrenstull/OneDrive/Frostgrave/100_things_in_an_Orges_Pocket', 'r', encoding='UTF-8') as f:\n",
    "  reader = csv.reader(f)\n",
    "  random_table = list(reader)\n",
    "\n",
    "print(random.choice(random_table))"
   ]
  },
  {
   "cell_type": "code",
   "execution_count": null,
   "metadata": {},
   "outputs": [],
   "source": [
    "# 100_travel_complications\n",
    "\n",
    "import csv\n",
    "import random\n",
    "\n",
    "with open('/Users/warrenstull/OneDrive/Frostgrave/100_travel_complications', 'r', encoding='UTF-8') as f:\n",
    "  reader = csv.reader(f)\n",
    "  random_table = list(reader)\n",
    "\n",
    "print(random.choice(random_table))"
   ]
  },
  {
   "cell_type": "code",
   "execution_count": null,
   "metadata": {},
   "outputs": [],
   "source": [
    "# 100_uncharted_islands\n",
    "\n",
    "import csv\n",
    "import random\n",
    "\n",
    "with open('/Users/warrenstull/OneDrive/Frostgrave/100_uncharted_islands', 'r', encoding='UTF-8') as f:\n",
    "  reader = csv.reader(f)\n",
    "  random_table = list(reader)\n",
    "\n",
    "print(random.choice(random_table))"
   ]
  },
  {
   "cell_type": "code",
   "execution_count": null,
   "metadata": {},
   "outputs": [],
   "source": [
    "# 100_underdark_side_effects\n",
    "\n",
    "import csv\n",
    "import random\n",
    "\n",
    "with open('/Users/warrenstull/OneDrive/Frostgrave/100_underdark_side_effects', 'r', encoding='UTF-8') as f:\n",
    "  reader = csv.reader(f)\n",
    "  random_table = list(reader)\n",
    "\n",
    "print(random.choice(random_table))"
   ]
  },
  {
   "cell_type": "code",
   "execution_count": null,
   "metadata": {},
   "outputs": [],
   "source": [
    "# 100_unique_towns_villages\n",
    "\n",
    "import csv\n",
    "import random\n",
    "\n",
    "with open('/Users/warrenstull/OneDrive/Frostgrave/100_unique_towns_villages', 'r', encoding='UTF-8') as f:\n",
    "  reader = csv.reader(f)\n",
    "  random_table = list(reader)\n",
    "\n",
    "print(random.choice(random_table))"
   ]
  },
  {
   "cell_type": "code",
   "execution_count": null,
   "metadata": {},
   "outputs": [],
   "source": [
    "# 100_useless_items_found_with_a_failed_investigation\n",
    "\n",
    "import csv\n",
    "import random\n",
    "\n",
    "with open('/Users/warrenstull/OneDrive/Frostgrave/100_useless_items_found_with_a_failed_investigation', 'r', encoding='UTF-8') as f:\n",
    "  reader = csv.reader(f)\n",
    "  random_table = list(reader)\n",
    "\n",
    "print(random.choice(random_table))"
   ]
  },
  {
   "cell_type": "code",
   "execution_count": null,
   "metadata": {},
   "outputs": [],
   "source": [
    "# 100_ways_to_recharge_a_magic_item\n",
    "\n",
    "import csv\n",
    "import random\n",
    "\n",
    "with open('/Users/warrenstull/OneDrive/Frostgrave/100_ways_to_recharge_a_magic_item', 'r', encoding='UTF-8') as f:\n",
    "  reader = csv.reader(f)\n",
    "  random_table = list(reader)\n",
    "\n",
    "print(random.choice(random_table))"
   ]
  },
  {
   "cell_type": "code",
   "execution_count": null,
   "metadata": {},
   "outputs": [],
   "source": [
    "# 100_weapon_histories\n",
    "\n",
    "import csv\n",
    "import random\n",
    "\n",
    "with open('/Users/warrenstull/OneDrive/Frostgrave/100_weapon_histories', 'r', encoding='UTF-8') as f:\n",
    "  reader = csv.reader(f)\n",
    "  random_table = list(reader)\n",
    "\n",
    "print(random.choice(random_table))"
   ]
  },
  {
   "cell_type": "code",
   "execution_count": null,
   "metadata": {},
   "outputs": [],
   "source": [
    "# 100_weapon_runes_attach_to_weapon_for_effect\n",
    "\n",
    "import csv\n",
    "import random\n",
    "\n",
    "with open('/Users/warrenstull/OneDrive/Frostgrave/100_weapon_runes_attach_to_weapon_for_effect', 'r', encoding='UTF-8') as f:\n",
    "  reader = csv.reader(f)\n",
    "  random_table = list(reader)\n",
    "\n",
    "print(random.choice(random_table))"
   ]
  },
  {
   "cell_type": "code",
   "execution_count": null,
   "metadata": {},
   "outputs": [],
   "source": [
    "# 100_zero_hp_injuries\n",
    "\n",
    "import csv\n",
    "import random\n",
    "\n",
    "with open('/Users/warrenstull/OneDrive/Frostgrave/100_zero_hp_injuries', 'r', encoding='UTF-8') as f:\n",
    "  reader = csv.reader(f)\n",
    "  random_table = list(reader)\n",
    "\n",
    "print(random.choice(random_table))"
   ]
  },
  {
   "cell_type": "code",
   "execution_count": null,
   "metadata": {},
   "outputs": [],
   "source": [
    "# 100+_items_you_can_catch_while_fishing\n",
    "\n",
    "import csv\n",
    "import random\n",
    "\n",
    "with open('/Users/warrenstull/OneDrive/Frostgrave/100+_items_you_can_catch_while_fishing', 'r', encoding='UTF-8') as f:\n",
    "  reader = csv.reader(f)\n",
    "  random_table = list(reader)\n",
    "\n",
    "print(random.choice(random_table))"
   ]
  },
  {
   "cell_type": "code",
   "execution_count": null,
   "metadata": {},
   "outputs": [],
   "source": [
    "# 104_different_arrow_types\n",
    "\n",
    "import csv\n",
    "import random\n",
    "\n",
    "with open('/Users/warrenstull/OneDrive/Frostgrave/104_different_arrow_types', 'r', encoding='UTF-8') as f:\n",
    "  reader = csv.reader(f)\n",
    "  random_table = list(reader)\n",
    "\n",
    "print(random.choice(random_table))"
   ]
  },
  {
   "cell_type": "code",
   "execution_count": null,
   "metadata": {},
   "outputs": [],
   "source": [
    "# 107_cave_skill_challenges\n",
    "\n",
    "import csv\n",
    "import random\n",
    "\n",
    "with open('/Users/warrenstull/OneDrive/Frostgrave/107_cave_skill_challenges', 'r', encoding='UTF-8') as f:\n",
    "  reader = csv.reader(f)\n",
    "  random_table = list(reader)\n",
    "\n",
    "print(random.choice(random_table))"
   ]
  },
  {
   "cell_type": "code",
   "execution_count": null,
   "metadata": {},
   "outputs": [],
   "source": [
    "# 110_items_for_sale_fantasy_black_market\n",
    "\n",
    "import csv\n",
    "import random\n",
    "\n",
    "with open('/Users/warrenstull/OneDrive/Frostgrave/110_items_for_sale_fantasy_black_market', 'r', encoding='UTF-8') as f:\n",
    "  reader = csv.reader(f)\n",
    "  random_table = list(reader)\n",
    "\n",
    "print(random.choice(random_table))"
   ]
  },
  {
   "cell_type": "code",
   "execution_count": null,
   "metadata": {},
   "outputs": [],
   "source": [
    "# 112_Hallucinations\n",
    "\n",
    "import csv\n",
    "import random\n",
    "\n",
    "with open('/Users/warrenstull/OneDrive/Frostgrave/112_Hallucinations', 'r', encoding='UTF-8') as f:\n",
    "  reader = csv.reader(f)\n",
    "  random_table = list(reader)\n",
    "\n",
    "print(random.choice(random_table))"
   ]
  },
  {
   "cell_type": "code",
   "execution_count": null,
   "metadata": {},
   "outputs": [],
   "source": [
    "# 114_fey_pranks\n",
    "\n",
    "import csv\n",
    "import random\n",
    "\n",
    "with open('/Users/warrenstull/OneDrive/Frostgrave/114_fey_pranks', 'r', encoding='UTF-8') as f:\n",
    "  reader = csv.reader(f)\n",
    "  random_table = list(reader)\n",
    "\n",
    "print(random.choice(random_table))"
   ]
  },
  {
   "cell_type": "code",
   "execution_count": null,
   "metadata": {},
   "outputs": [],
   "source": [
    "# 124_art_objects_worth_100gp\n",
    "\n",
    "import csv\n",
    "import random\n",
    "\n",
    "with open('/Users/warrenstull/OneDrive/Frostgrave/124_art_objects_worth_100gp', 'r', encoding='UTF-8') as f:\n",
    "  reader = csv.reader(f)\n",
    "  random_table = list(reader)\n",
    "\n",
    "print(random.choice(random_table))"
   ]
  },
  {
   "cell_type": "code",
   "execution_count": null,
   "metadata": {},
   "outputs": [],
   "source": [
    "# 168_resurrection_side_effects\n",
    "\n",
    "import csv\n",
    "import random\n",
    "\n",
    "with open('/Users/warrenstull/OneDrive/Frostgrave/168_resurrection_side_effects', 'r', encoding='UTF-8') as f:\n",
    "  reader = csv.reader(f)\n",
    "  random_table = list(reader)\n",
    "\n",
    "print(random.choice(random_table))"
   ]
  },
  {
   "cell_type": "code",
   "execution_count": null,
   "metadata": {},
   "outputs": [],
   "source": [
    "# 208_parody_books\n",
    "\n",
    "import csv\n",
    "import random\n",
    "\n",
    "with open('/Users/warrenstull/OneDrive/Frostgrave/208_parody_books', 'r', encoding='UTF-8') as f:\n",
    "  reader = csv.reader(f)\n",
    "  random_table = list(reader)\n",
    "\n",
    "print(random.choice(random_table))"
   ]
  },
  {
   "cell_type": "code",
   "execution_count": null,
   "metadata": {},
   "outputs": [],
   "source": []
  }
 ],
 "metadata": {
  "kernelspec": {
   "display_name": "Python 3",
   "language": "python",
   "name": "python3"
  },
  "language_info": {
   "codemirror_mode": {
    "name": "ipython",
    "version": 3
   },
   "file_extension": ".py",
   "mimetype": "text/x-python",
   "name": "python",
   "nbconvert_exporter": "python",
   "pygments_lexer": "ipython3",
   "version": "3.7.4"
  }
 },
 "nbformat": 4,
 "nbformat_minor": 2
}
